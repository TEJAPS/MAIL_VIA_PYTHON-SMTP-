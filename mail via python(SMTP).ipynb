{
 "cells": [
  {
   "cell_type": "code",
   "execution_count": 3,
   "metadata": {},
   "outputs": [
    {
     "data": {
      "text/plain": [
       "(221, b'2.0.0 closing connection ko10sm23097611pbd.52 - gsmtp')"
      ]
     },
     "execution_count": 3,
     "metadata": {},
     "output_type": "execute_result"
    }
   ],
   "source": [
    "#multiple participants\n",
    "import os\n",
    "import smtplib\n",
    "from email import encoders\n",
    "from email.mime.base import MIMEBase\n",
    "from email.mime.multipart import MIMEMultipart\n",
    "\n",
    "import smtplib\n",
    "smtpObj = smtplib.SMTP('smtp.gmail.com', 587)\n",
    "smtpObj.ehlo()\n",
    "(250, b'mx.example.com at your service, [216.172.148.131]\\nSIZE 35882577\\\n",
    "n8BITMIME\\nSTARTTLS\\nENHANCEDSTATUSCODES\\nCHUNKING')\n",
    "smtpObj.starttls()\n",
    "(220, b'2.0.0 Ready to start TLS')\n",
    "smtpObj.login('vnrcse4@gmail.com', 'vnrvjietcse')\n",
    "(235, b'2.7.0 Accepted')\n",
    "smtpObj.sendmail('tejapolisetty143@gmail.com','riyaz.n111@gmail.com', 'Subject: Trying mail from python.\\nDear Friend, Yup finally getting t',\"hi bye take care\")\n",
    "{}\n",
    "smtpObj.quit()\n",
    "(221, b'2.0.0 closing connection ko10sm23097611pbd.52 - gsmtp')"
   ]
  },
  {
   "cell_type": "code",
   "execution_count": null,
   "metadata": {
    "collapsed": true
   },
   "outputs": [],
   "source": []
  }
 ],
 "metadata": {
  "kernelspec": {
   "display_name": "Python 3",
   "language": "python",
   "name": "python3"
  },
  "language_info": {
   "codemirror_mode": {
    "name": "ipython",
    "version": 3
   },
   "file_extension": ".py",
   "mimetype": "text/x-python",
   "name": "python",
   "nbconvert_exporter": "python",
   "pygments_lexer": "ipython3",
   "version": "3.6.1"
  }
 },
 "nbformat": 4,
 "nbformat_minor": 2
}
